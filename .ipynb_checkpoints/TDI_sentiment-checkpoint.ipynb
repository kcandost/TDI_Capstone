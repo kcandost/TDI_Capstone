{
 "cells": [
  {
   "cell_type": "code",
   "execution_count": 63,
   "id": "f4b68941",
   "metadata": {},
   "outputs": [],
   "source": [
    "import numpy as np\n",
    "import pandas as pd\n",
    "import string"
   ]
  },
  {
   "cell_type": "code",
   "execution_count": 64,
   "id": "87756a37",
   "metadata": {},
   "outputs": [
    {
     "name": "stdout",
     "output_type": "stream",
     "text": [
      "1011\n"
     ]
    }
   ],
   "source": [
    "sw4 = [line.rstrip() for line in open('sw4.txt')]\n",
    "print(len(sw))"
   ]
  },
  {
   "cell_type": "code",
   "execution_count": 65,
   "id": "098c274b",
   "metadata": {},
   "outputs": [
    {
     "data": {
      "text/plain": [
       "['', '4', ' ', 'THREEPIO', ' ', \"What's that?\", '']"
      ]
     },
     "execution_count": 65,
     "metadata": {},
     "output_type": "execute_result"
    }
   ],
   "source": [
    "sw4[4].split(\"\\\"\")"
   ]
  },
  {
   "cell_type": "code",
   "execution_count": 66,
   "id": "7f2cab22",
   "metadata": {},
   "outputs": [
    {
     "name": "stdout",
     "output_type": "stream",
     "text": [
      "0 \"character\" \"dialogue\"\n",
      "\n",
      "\n",
      "1 \"1\" \"THREEPIO\" \"Did you hear that?  They've shut down the main reactor.  We'll be destroyed for sure.  This is madness!\"\n",
      "\n",
      "\n",
      "2 \"2\" \"THREEPIO\" \"We're doomed!\"\n",
      "\n",
      "\n",
      "3 \"3\" \"THREEPIO\" \"There'll be no escape for the Princess this time.\"\n",
      "\n",
      "\n",
      "4 \"4\" \"THREEPIO\" \"What's that?\"\n",
      "\n",
      "\n",
      "5 \"5\" \"THREEPIO\" \"I should have known better than to trust the logic of a half-sized thermocapsulary dehousing assister...\"\n",
      "\n",
      "\n",
      "6 \"6\" \"LUKE\" \"Hurry up!  Come with me!  What are you waiting for?!  Get in gear!\"\n",
      "\n",
      "\n",
      "7 \"7\" \"THREEPIO\" \"Artoo! Artoo-Detoo, where are you?\"\n",
      "\n",
      "\n",
      "8 \"8\" \"THREEPIO\" \"At last!  Where have you been?\"\n",
      "\n",
      "\n",
      "9 \"9\" \"THREEPIO\" \"They're heading in this direction. What are we going to do?  We'll be sent to the spice mines of Kessel or smashed into who knows what!\"\n",
      "\n",
      "\n"
     ]
    }
   ],
   "source": [
    "for message_no, message in enumerate(sw[:10]):\n",
    "    print(message_no, message)\n",
    "    print('\\n')"
   ]
  },
  {
   "cell_type": "code",
   "execution_count": 67,
   "id": "5366e146",
   "metadata": {},
   "outputs": [
    {
     "data": {
      "text/html": [
       "<div>\n",
       "<style scoped>\n",
       "    .dataframe tbody tr th:only-of-type {\n",
       "        vertical-align: middle;\n",
       "    }\n",
       "\n",
       "    .dataframe tbody tr th {\n",
       "        vertical-align: top;\n",
       "    }\n",
       "\n",
       "    .dataframe thead th {\n",
       "        text-align: right;\n",
       "    }\n",
       "</style>\n",
       "<table border=\"1\" class=\"dataframe\">\n",
       "  <thead>\n",
       "    <tr style=\"text-align: right;\">\n",
       "      <th></th>\n",
       "      <th>trash1</th>\n",
       "      <th>character</th>\n",
       "      <th>line</th>\n",
       "      <th>trash2</th>\n",
       "    </tr>\n",
       "  </thead>\n",
       "  <tbody>\n",
       "    <tr>\n",
       "      <th>0</th>\n",
       "      <td>character</td>\n",
       "      <td>dialogue</td>\n",
       "      <td>NaN</td>\n",
       "      <td>NaN</td>\n",
       "    </tr>\n",
       "    <tr>\n",
       "      <th>1</th>\n",
       "      <td>1</td>\n",
       "      <td>THREEPIO</td>\n",
       "      <td></td>\n",
       "      <td>Did you hear that?  They've shut down the main...</td>\n",
       "    </tr>\n",
       "    <tr>\n",
       "      <th>2</th>\n",
       "      <td>2</td>\n",
       "      <td>THREEPIO</td>\n",
       "      <td></td>\n",
       "      <td>We're doomed!</td>\n",
       "    </tr>\n",
       "    <tr>\n",
       "      <th>3</th>\n",
       "      <td>3</td>\n",
       "      <td>THREEPIO</td>\n",
       "      <td></td>\n",
       "      <td>There'll be no escape for the Princess this time.</td>\n",
       "    </tr>\n",
       "    <tr>\n",
       "      <th>4</th>\n",
       "      <td>4</td>\n",
       "      <td>THREEPIO</td>\n",
       "      <td></td>\n",
       "      <td>What's that?</td>\n",
       "    </tr>\n",
       "    <tr>\n",
       "      <th>5</th>\n",
       "      <td>5</td>\n",
       "      <td>THREEPIO</td>\n",
       "      <td></td>\n",
       "      <td>I should have known better than to trust the l...</td>\n",
       "    </tr>\n",
       "    <tr>\n",
       "      <th>6</th>\n",
       "      <td>6</td>\n",
       "      <td>LUKE</td>\n",
       "      <td></td>\n",
       "      <td>Hurry up!  Come with me!  What are you waiting...</td>\n",
       "    </tr>\n",
       "    <tr>\n",
       "      <th>7</th>\n",
       "      <td>7</td>\n",
       "      <td>THREEPIO</td>\n",
       "      <td></td>\n",
       "      <td>Artoo! Artoo-Detoo, where are you?</td>\n",
       "    </tr>\n",
       "    <tr>\n",
       "      <th>8</th>\n",
       "      <td>8</td>\n",
       "      <td>THREEPIO</td>\n",
       "      <td></td>\n",
       "      <td>At last!  Where have you been?</td>\n",
       "    </tr>\n",
       "    <tr>\n",
       "      <th>9</th>\n",
       "      <td>9</td>\n",
       "      <td>THREEPIO</td>\n",
       "      <td></td>\n",
       "      <td>They're heading in this direction. What are we...</td>\n",
       "    </tr>\n",
       "  </tbody>\n",
       "</table>\n",
       "</div>"
      ],
      "text/plain": [
       "       trash1 character line  \\\n",
       "0  character   dialogue  NaN   \n",
       "1          1   THREEPIO        \n",
       "2          2   THREEPIO        \n",
       "3          3   THREEPIO        \n",
       "4          4   THREEPIO        \n",
       "5          5   THREEPIO        \n",
       "6          6       LUKE        \n",
       "7          7   THREEPIO        \n",
       "8          8   THREEPIO        \n",
       "9          9   THREEPIO        \n",
       "\n",
       "                                              trash2  \n",
       "0                                                NaN  \n",
       "1  Did you hear that?  They've shut down the main...  \n",
       "2                                      We're doomed!  \n",
       "3  There'll be no escape for the Princess this time.  \n",
       "4                                       What's that?  \n",
       "5  I should have known better than to trust the l...  \n",
       "6  Hurry up!  Come with me!  What are you waiting...  \n",
       "7                 Artoo! Artoo-Detoo, where are you?  \n",
       "8                     At last!  Where have you been?  \n",
       "9  They're heading in this direction. What are we...  "
      ]
     },
     "execution_count": 67,
     "metadata": {},
     "output_type": "execute_result"
    }
   ],
   "source": [
    "sw4 = pd.read_csv('sw4.txt', sep=\"\\\"\",\n",
    "                           names=[\"trash1\", \"character\",\"line\",'trash2'])\n",
    "sw4.head(10)"
   ]
  },
  {
   "cell_type": "code",
   "execution_count": 69,
   "id": "f0cd5cc8",
   "metadata": {},
   "outputs": [],
   "source": [
    "sw4=sw4.drop('trash1',axis=1)"
   ]
  },
  {
   "cell_type": "code",
   "execution_count": null,
   "id": "6b425966",
   "metadata": {},
   "outputs": [],
   "source": []
  }
 ],
 "metadata": {
  "kernelspec": {
   "display_name": "Python 3 (ipykernel)",
   "language": "python",
   "name": "python3"
  },
  "language_info": {
   "codemirror_mode": {
    "name": "ipython",
    "version": 3
   },
   "file_extension": ".py",
   "mimetype": "text/x-python",
   "name": "python",
   "nbconvert_exporter": "python",
   "pygments_lexer": "ipython3",
   "version": "3.9.7"
  }
 },
 "nbformat": 4,
 "nbformat_minor": 5
}
